{
 "cells": [
  {
   "cell_type": "code",
   "execution_count": 1,
   "id": "44329d4b",
   "metadata": {},
   "outputs": [],
   "source": [
    "import pandas as pd\n",
    "import numpy as np\n",
    "import os"
   ]
  },
  {
   "cell_type": "code",
   "execution_count": 2,
   "id": "111de462",
   "metadata": {},
   "outputs": [],
   "source": [
    "def get_Prolific_data(sheet):\n",
    "    print('--------------------------------')\n",
    "    print(f'Prolific {sheet} sheet')\n",
    "    print()\n",
    "    \n",
    "    if sheet not in ['Trust', 'Readability']:\n",
    "        raise ValueError('Sheet name not found!')\n",
    "        \n",
    "    start_column, end_column = (5, 30) if sheet == 'Readability' else (6, 31)\n",
    "    \n",
    "    # read excel and get batchinitial info\n",
    "    df = pd.read_excel('Prolific Data.xlsx', sheet_name=sheet).iloc[:, start_column:end_column].dropna()\n",
    "    print(f'Initial data size: {len(df)} rows')\n",
    "    print('--------------------------------')\n",
    "    return df"
   ]
  },
  {
   "cell_type": "code",
   "execution_count": 3,
   "id": "14b163d5",
   "metadata": {},
   "outputs": [],
   "source": [
    "def process_Prolific_data(data):\n",
    "    # group by question_id\n",
    "    df = pd.DataFrame(columns=['question_id', 'answer'])\n",
    "    for i in range(1, 13):\n",
    "        column1 = f'image_{i}'\n",
    "        column2 = f'image_{i}_answer'\n",
    "        to_concat = data[[column1, column2]].rename(columns={column1: 'question_id', column2: 'answer'}, inplace=False)\n",
    "        df = pd.concat([df, to_concat])\n",
    "    print(f'Size after processing data: {len(df)} = 12 questions * {len(data)} records.')\n",
    "    print()\n",
    "    return df"
   ]
  },
  {
   "cell_type": "code",
   "execution_count": 4,
   "id": "e4d51509",
   "metadata": {},
   "outputs": [],
   "source": [
    "def is_processed_batch(file, source):\n",
    "    params = dict()\n",
    "    processed = False\n",
    "    if os.path.isfile(file):\n",
    "        sources = list(pd.read_csv(file, usecols=['source']).source.unique())\n",
    "        if source in sources:\n",
    "            processed = True\n",
    "        else:\n",
    "            params['mode'] = 'a'\n",
    "            params['header'] = None\n",
    "    return (processed, params)"
   ]
  },
  {
   "cell_type": "code",
   "execution_count": 5,
   "id": "7a73ff93",
   "metadata": {},
   "outputs": [],
   "source": [
    "def update_ML_csv(Readability, Trust, batch_number):\n",
    "    source = f'prolific-batch{batch_number}'\n",
    "    \n",
    "    processedR, paramsR = is_processed_batch('MLR.csv', source)\n",
    "    processedT, paramsT = is_processed_batch('MLT.csv', source)\n",
    "    \n",
    "    if not processedR:\n",
    "        R = Readability.copy(deep=True)\n",
    "        R['source'] = source\n",
    "        R.to_csv('MLR.csv', index=False, **paramsR)\n",
    "        print(f'Updated MLR.csv with the latest \"{source}\" !')\n",
    "    else:\n",
    "        print(f'Readability {source} already processed!')\n",
    "    \n",
    "    if not processedT:\n",
    "        T = Trust.copy(deep=True)\n",
    "        T['source'] = source\n",
    "        T.to_csv('MLT.csv', index=False, **paramsT)\n",
    "        print(f'Updated MLT.csv with the latest \"{source}\" !')\n",
    "    else:\n",
    "        print(f'Trust {source} already processed!')"
   ]
  },
  {
   "cell_type": "code",
   "execution_count": 6,
   "id": "abff22b5",
   "metadata": {},
   "outputs": [
    {
     "name": "stdout",
     "output_type": "stream",
     "text": [
      "--------------------------------\n",
      "Prolific Readability sheet\n",
      "\n",
      "Initial data size: 1634 rows\n",
      "--------------------------------\n",
      "Size after processing data: 19608 = 12 questions * 1634 records.\n",
      "\n",
      "--------------------------------\n",
      "Prolific Trust sheet\n",
      "\n",
      "Initial data size: 1626 rows\n",
      "--------------------------------\n",
      "Size after processing data: 19512 = 12 questions * 1626 records.\n",
      "\n",
      "Updated MLR.csv with the latest \"prolific-batch1\" !\n",
      "Updated MLT.csv with the latest \"prolific-batch1\" !\n"
     ]
    }
   ],
   "source": [
    "Readability = process_Prolific_data(get_Prolific_data('Readability'))\n",
    "Trust = process_Prolific_data(get_Prolific_data('Trust'))\n",
    "\n",
    "update_ML_csv(Readability, Trust, 1)"
   ]
  },
  {
   "cell_type": "code",
   "execution_count": null,
   "id": "db8e7a8a",
   "metadata": {},
   "outputs": [],
   "source": []
  }
 ],
 "metadata": {
  "kernelspec": {
   "display_name": "Python 3",
   "language": "python",
   "name": "python3"
  },
  "language_info": {
   "codemirror_mode": {
    "name": "ipython",
    "version": 3
   },
   "file_extension": ".py",
   "mimetype": "text/x-python",
   "name": "python",
   "nbconvert_exporter": "python",
   "pygments_lexer": "ipython3",
   "version": "3.9.4"
  }
 },
 "nbformat": 4,
 "nbformat_minor": 5
}
