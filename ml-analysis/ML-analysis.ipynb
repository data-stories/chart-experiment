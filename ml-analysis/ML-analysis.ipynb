{
 "cells": [
  {
   "cell_type": "code",
   "execution_count": 1,
   "id": "91fb4e7e",
   "metadata": {},
   "outputs": [],
   "source": [
    "import pandas as pd\n",
    "import numpy as np\n",
    "from parsing import parse_chart_name"
   ]
  },
  {
   "cell_type": "code",
   "execution_count": 2,
   "id": "a21a8449",
   "metadata": {},
   "outputs": [
    {
     "data": {
      "text/html": [
       "<div>\n",
       "<style scoped>\n",
       "    .dataframe tbody tr th:only-of-type {\n",
       "        vertical-align: middle;\n",
       "    }\n",
       "\n",
       "    .dataframe tbody tr th {\n",
       "        vertical-align: top;\n",
       "    }\n",
       "\n",
       "    .dataframe thead th {\n",
       "        text-align: right;\n",
       "    }\n",
       "</style>\n",
       "<table border=\"1\" class=\"dataframe\">\n",
       "  <thead>\n",
       "    <tr style=\"text-align: right;\">\n",
       "      <th></th>\n",
       "      <th>question_id</th>\n",
       "      <th>answer</th>\n",
       "      <th>source</th>\n",
       "    </tr>\n",
       "  </thead>\n",
       "  <tbody>\n",
       "    <tr>\n",
       "      <th>0</th>\n",
       "      <td>PD-MB-dd12-dh5-we05-sano-ro000-pa01-ad09-ftse-...</td>\n",
       "      <td>yes</td>\n",
       "      <td>prolific-batch1</td>\n",
       "    </tr>\n",
       "    <tr>\n",
       "      <th>1</th>\n",
       "      <td>PB-CL-dd06-gr00-pano-sa00-bw6-boh-bs000-e00a1-...</td>\n",
       "      <td>yes</td>\n",
       "      <td>prolific-batch1</td>\n",
       "    </tr>\n",
       "    <tr>\n",
       "      <th>2</th>\n",
       "      <td>PB-CR-dd06-gr00-pa03-sano-bw6-bov-bs000-e11a1-...</td>\n",
       "      <td>yes</td>\n",
       "      <td>prolific-batch1</td>\n",
       "    </tr>\n",
       "    <tr>\n",
       "      <th>3</th>\n",
       "      <td>PD-MB-dd02-dh5-we05-sano-ro000-pano-ad09-ftse-...</td>\n",
       "      <td>yes</td>\n",
       "      <td>prolific-batch1</td>\n",
       "    </tr>\n",
       "    <tr>\n",
       "      <th>4</th>\n",
       "      <td>PD-CL-dd12-dh5-we05-sano-ro000-pa01-ad09-ftse-...</td>\n",
       "      <td>yes</td>\n",
       "      <td>prolific-batch1</td>\n",
       "    </tr>\n",
       "  </tbody>\n",
       "</table>\n",
       "</div>"
      ],
      "text/plain": [
       "                                         question_id answer           source\n",
       "0  PD-MB-dd12-dh5-we05-sano-ro000-pa01-ad09-ftse-...    yes  prolific-batch1\n",
       "1  PB-CL-dd06-gr00-pano-sa00-bw6-boh-bs000-e00a1-...    yes  prolific-batch1\n",
       "2  PB-CR-dd06-gr00-pa03-sano-bw6-bov-bs000-e11a1-...    yes  prolific-batch1\n",
       "3  PD-MB-dd02-dh5-we05-sano-ro000-pano-ad09-ftse-...    yes  prolific-batch1\n",
       "4  PD-CL-dd12-dh5-we05-sano-ro000-pa01-ad09-ftse-...    yes  prolific-batch1"
      ]
     },
     "execution_count": 2,
     "metadata": {},
     "output_type": "execute_result"
    }
   ],
   "source": [
    "Readability = pd.read_csv('MLR.csv')\n",
    "Readability.head()"
   ]
  },
  {
   "cell_type": "code",
   "execution_count": 3,
   "id": "ebaf5db1",
   "metadata": {},
   "outputs": [
    {
     "data": {
      "text/plain": [
       "40044"
      ]
     },
     "execution_count": 3,
     "metadata": {},
     "output_type": "execute_result"
    }
   ],
   "source": [
    "len(Readability)"
   ]
  },
  {
   "cell_type": "code",
   "execution_count": 4,
   "id": "c3dcb577",
   "metadata": {},
   "outputs": [
    {
     "data": {
      "text/plain": [
       "yes     29493\n",
       "no      10141\n",
       "skip      410\n",
       "Name: answer, dtype: int64"
      ]
     },
     "execution_count": 4,
     "metadata": {},
     "output_type": "execute_result"
    }
   ],
   "source": [
    "Readability.answer.value_counts()"
   ]
  },
  {
   "cell_type": "code",
   "execution_count": 5,
   "id": "212ba3af",
   "metadata": {},
   "outputs": [
    {
     "data": {
      "text/html": [
       "<div>\n",
       "<style scoped>\n",
       "    .dataframe tbody tr th:only-of-type {\n",
       "        vertical-align: middle;\n",
       "    }\n",
       "\n",
       "    .dataframe tbody tr th {\n",
       "        vertical-align: top;\n",
       "    }\n",
       "\n",
       "    .dataframe thead th {\n",
       "        text-align: right;\n",
       "    }\n",
       "</style>\n",
       "<table border=\"1\" class=\"dataframe\">\n",
       "  <thead>\n",
       "    <tr style=\"text-align: right;\">\n",
       "      <th></th>\n",
       "      <th>question_id</th>\n",
       "      <th>answer</th>\n",
       "      <th>source</th>\n",
       "    </tr>\n",
       "  </thead>\n",
       "  <tbody>\n",
       "    <tr>\n",
       "      <th>0</th>\n",
       "      <td>PD-MB-dd12-dh5-we05-sa00-ro000-pa01-ad09-ftse-...</td>\n",
       "      <td>yes</td>\n",
       "      <td>prolific-batch1</td>\n",
       "    </tr>\n",
       "    <tr>\n",
       "      <th>1</th>\n",
       "      <td>PB-MG-dd06-gr00-pa05-sa00-bw6-bov-bs000-e11a1-...</td>\n",
       "      <td>no</td>\n",
       "      <td>prolific-batch1</td>\n",
       "    </tr>\n",
       "    <tr>\n",
       "      <th>2</th>\n",
       "      <td>PB-CR-dd06-gr00-pano-sa00-bw6-boh-bs000-e00a1-...</td>\n",
       "      <td>no</td>\n",
       "      <td>prolific-batch1</td>\n",
       "    </tr>\n",
       "    <tr>\n",
       "      <th>3</th>\n",
       "      <td>PP-MG-dd06-we05-sa00-ro000-pa05-ad09-ftse-fs16...</td>\n",
       "      <td>yes</td>\n",
       "      <td>prolific-batch1</td>\n",
       "    </tr>\n",
       "    <tr>\n",
       "      <th>4</th>\n",
       "      <td>PB-CL-dd06-gr00-pano-sa00-bw6-boh-bs000-e00a1-...</td>\n",
       "      <td>no</td>\n",
       "      <td>prolific-batch1</td>\n",
       "    </tr>\n",
       "  </tbody>\n",
       "</table>\n",
       "</div>"
      ],
      "text/plain": [
       "                                         question_id answer           source\n",
       "0  PD-MB-dd12-dh5-we05-sa00-ro000-pa01-ad09-ftse-...    yes  prolific-batch1\n",
       "1  PB-MG-dd06-gr00-pa05-sa00-bw6-bov-bs000-e11a1-...     no  prolific-batch1\n",
       "2  PB-CR-dd06-gr00-pano-sa00-bw6-boh-bs000-e00a1-...     no  prolific-batch1\n",
       "3  PP-MG-dd06-we05-sa00-ro000-pa05-ad09-ftse-fs16...    yes  prolific-batch1\n",
       "4  PB-CL-dd06-gr00-pano-sa00-bw6-boh-bs000-e00a1-...     no  prolific-batch1"
      ]
     },
     "execution_count": 5,
     "metadata": {},
     "output_type": "execute_result"
    }
   ],
   "source": [
    "Trust = pd.read_csv('MLT.csv')\n",
    "Trust.head()"
   ]
  },
  {
   "cell_type": "code",
   "execution_count": 6,
   "id": "de2f8d60",
   "metadata": {},
   "outputs": [
    {
     "data": {
      "text/plain": [
       "39936"
      ]
     },
     "execution_count": 6,
     "metadata": {},
     "output_type": "execute_result"
    }
   ],
   "source": [
    "len(Trust)"
   ]
  },
  {
   "cell_type": "code",
   "execution_count": 7,
   "id": "f1a4407a",
   "metadata": {},
   "outputs": [
    {
     "data": {
      "text/plain": [
       "yes     21244\n",
       "no      18161\n",
       "skip      531\n",
       "Name: answer, dtype: int64"
      ]
     },
     "execution_count": 7,
     "metadata": {},
     "output_type": "execute_result"
    }
   ],
   "source": [
    "Trust.answer.value_counts()"
   ]
  },
  {
   "cell_type": "code",
   "execution_count": 8,
   "id": "414bb60e",
   "metadata": {},
   "outputs": [
    {
     "data": {
      "text/html": [
       "<div>\n",
       "<style scoped>\n",
       "    .dataframe tbody tr th:only-of-type {\n",
       "        vertical-align: middle;\n",
       "    }\n",
       "\n",
       "    .dataframe tbody tr th {\n",
       "        vertical-align: top;\n",
       "    }\n",
       "\n",
       "    .dataframe thead th {\n",
       "        text-align: right;\n",
       "    }\n",
       "</style>\n",
       "<table border=\"1\" class=\"dataframe\">\n",
       "  <thead>\n",
       "    <tr style=\"text-align: right;\">\n",
       "      <th></th>\n",
       "      <th>question_id</th>\n",
       "      <th>answer</th>\n",
       "    </tr>\n",
       "  </thead>\n",
       "  <tbody>\n",
       "    <tr>\n",
       "      <th>0</th>\n",
       "      <td>PB-CL-dd06-gr00-pa01-sa00-bw6-boh-bs000-e00a1-...</td>\n",
       "      <td>0.740000</td>\n",
       "    </tr>\n",
       "    <tr>\n",
       "      <th>1</th>\n",
       "      <td>PB-CL-dd06-gr00-pa01-sa00-bw6-boh-bs000-e10a1-...</td>\n",
       "      <td>0.578947</td>\n",
       "    </tr>\n",
       "    <tr>\n",
       "      <th>2</th>\n",
       "      <td>PB-CL-dd06-gr00-pa01-sa00-bw6-boh-bs000-e11a1-...</td>\n",
       "      <td>0.712766</td>\n",
       "    </tr>\n",
       "    <tr>\n",
       "      <th>3</th>\n",
       "      <td>PB-CL-dd06-gr00-pa01-sa00-bw6-bov-bs000-e00a1-...</td>\n",
       "      <td>0.742574</td>\n",
       "    </tr>\n",
       "    <tr>\n",
       "      <th>4</th>\n",
       "      <td>PB-CL-dd06-gr00-pa01-sa00-bw6-bov-bs000-e10a1-...</td>\n",
       "      <td>0.542553</td>\n",
       "    </tr>\n",
       "  </tbody>\n",
       "</table>\n",
       "</div>"
      ],
      "text/plain": [
       "                                         question_id    answer\n",
       "0  PB-CL-dd06-gr00-pa01-sa00-bw6-boh-bs000-e00a1-...  0.740000\n",
       "1  PB-CL-dd06-gr00-pa01-sa00-bw6-boh-bs000-e10a1-...  0.578947\n",
       "2  PB-CL-dd06-gr00-pa01-sa00-bw6-boh-bs000-e11a1-...  0.712766\n",
       "3  PB-CL-dd06-gr00-pa01-sa00-bw6-bov-bs000-e00a1-...  0.742574\n",
       "4  PB-CL-dd06-gr00-pa01-sa00-bw6-bov-bs000-e10a1-...  0.542553"
      ]
     },
     "execution_count": 8,
     "metadata": {},
     "output_type": "execute_result"
    }
   ],
   "source": [
    "R = Readability.loc[:, ['question_id', 'answer']]\n",
    "R['answer'] = R['answer'].apply(lambda x: 1 if x == 'yes' else 0)\n",
    "R = R.groupby(by='question_id').mean().reset_index()\n",
    "R.head()"
   ]
  },
  {
   "cell_type": "code",
   "execution_count": 9,
   "id": "71f808d7",
   "metadata": {},
   "outputs": [
    {
     "data": {
      "text/html": [
       "<div>\n",
       "<style scoped>\n",
       "    .dataframe tbody tr th:only-of-type {\n",
       "        vertical-align: middle;\n",
       "    }\n",
       "\n",
       "    .dataframe tbody tr th {\n",
       "        vertical-align: top;\n",
       "    }\n",
       "\n",
       "    .dataframe thead th {\n",
       "        text-align: right;\n",
       "    }\n",
       "</style>\n",
       "<table border=\"1\" class=\"dataframe\">\n",
       "  <thead>\n",
       "    <tr style=\"text-align: right;\">\n",
       "      <th></th>\n",
       "      <th>question_id</th>\n",
       "      <th>answer</th>\n",
       "    </tr>\n",
       "  </thead>\n",
       "  <tbody>\n",
       "    <tr>\n",
       "      <th>0</th>\n",
       "      <td>PB-CL-dd06-gr00-pa01-sa00-bw6-boh-bs000-e00a1-...</td>\n",
       "      <td>0.594059</td>\n",
       "    </tr>\n",
       "    <tr>\n",
       "      <th>1</th>\n",
       "      <td>PB-CL-dd06-gr00-pa01-sa00-bw6-boh-bs000-e10a1-...</td>\n",
       "      <td>0.558824</td>\n",
       "    </tr>\n",
       "    <tr>\n",
       "      <th>2</th>\n",
       "      <td>PB-CL-dd06-gr00-pa01-sa00-bw6-boh-bs000-e11a1-...</td>\n",
       "      <td>0.510000</td>\n",
       "    </tr>\n",
       "    <tr>\n",
       "      <th>3</th>\n",
       "      <td>PB-CL-dd06-gr00-pa01-sa00-bw6-bov-bs000-e00a1-...</td>\n",
       "      <td>0.575758</td>\n",
       "    </tr>\n",
       "    <tr>\n",
       "      <th>4</th>\n",
       "      <td>PB-CL-dd06-gr00-pa01-sa00-bw6-bov-bs000-e10a1-...</td>\n",
       "      <td>0.555556</td>\n",
       "    </tr>\n",
       "  </tbody>\n",
       "</table>\n",
       "</div>"
      ],
      "text/plain": [
       "                                         question_id    answer\n",
       "0  PB-CL-dd06-gr00-pa01-sa00-bw6-boh-bs000-e00a1-...  0.594059\n",
       "1  PB-CL-dd06-gr00-pa01-sa00-bw6-boh-bs000-e10a1-...  0.558824\n",
       "2  PB-CL-dd06-gr00-pa01-sa00-bw6-boh-bs000-e11a1-...  0.510000\n",
       "3  PB-CL-dd06-gr00-pa01-sa00-bw6-bov-bs000-e00a1-...  0.575758\n",
       "4  PB-CL-dd06-gr00-pa01-sa00-bw6-bov-bs000-e10a1-...  0.555556"
      ]
     },
     "execution_count": 9,
     "metadata": {},
     "output_type": "execute_result"
    }
   ],
   "source": [
    "T = Trust.loc[:, ['question_id', 'answer']]\n",
    "T['answer'] = T['answer'].apply(lambda x: 1 if x == 'yes' else 0)\n",
    "T = T.groupby(by='question_id').mean().reset_index()\n",
    "T.head()"
   ]
  },
  {
   "cell_type": "code",
   "execution_count": 10,
   "id": "85f474b8",
   "metadata": {},
   "outputs": [],
   "source": [
    "df = R.merge(T, on='question_id', how='outer').set_axis(['question_id', 'yes_R', 'yes_T'], axis='columns')"
   ]
  },
  {
   "cell_type": "code",
   "execution_count": 11,
   "id": "d92bdfde",
   "metadata": {},
   "outputs": [
    {
     "data": {
      "text/html": [
       "<div>\n",
       "<style scoped>\n",
       "    .dataframe tbody tr th:only-of-type {\n",
       "        vertical-align: middle;\n",
       "    }\n",
       "\n",
       "    .dataframe tbody tr th {\n",
       "        vertical-align: top;\n",
       "    }\n",
       "\n",
       "    .dataframe thead th {\n",
       "        text-align: right;\n",
       "    }\n",
       "</style>\n",
       "<table border=\"1\" class=\"dataframe\">\n",
       "  <thead>\n",
       "    <tr style=\"text-align: right;\">\n",
       "      <th></th>\n",
       "      <th>question_id</th>\n",
       "      <th>yes_R</th>\n",
       "      <th>yes_T</th>\n",
       "    </tr>\n",
       "  </thead>\n",
       "  <tbody>\n",
       "    <tr>\n",
       "      <th>0</th>\n",
       "      <td>PB-CL-dd06-gr00-pa01-sa00-bw6-boh-bs000-e00a1-...</td>\n",
       "      <td>0.740000</td>\n",
       "      <td>0.594059</td>\n",
       "    </tr>\n",
       "    <tr>\n",
       "      <th>1</th>\n",
       "      <td>PB-CL-dd06-gr00-pa01-sa00-bw6-boh-bs000-e10a1-...</td>\n",
       "      <td>0.578947</td>\n",
       "      <td>0.558824</td>\n",
       "    </tr>\n",
       "    <tr>\n",
       "      <th>2</th>\n",
       "      <td>PB-CL-dd06-gr00-pa01-sa00-bw6-boh-bs000-e11a1-...</td>\n",
       "      <td>0.712766</td>\n",
       "      <td>0.510000</td>\n",
       "    </tr>\n",
       "    <tr>\n",
       "      <th>3</th>\n",
       "      <td>PB-CL-dd06-gr00-pa01-sa00-bw6-bov-bs000-e00a1-...</td>\n",
       "      <td>0.742574</td>\n",
       "      <td>0.575758</td>\n",
       "    </tr>\n",
       "    <tr>\n",
       "      <th>4</th>\n",
       "      <td>PB-CL-dd06-gr00-pa01-sa00-bw6-bov-bs000-e10a1-...</td>\n",
       "      <td>0.542553</td>\n",
       "      <td>0.555556</td>\n",
       "    </tr>\n",
       "  </tbody>\n",
       "</table>\n",
       "</div>"
      ],
      "text/plain": [
       "                                         question_id     yes_R     yes_T\n",
       "0  PB-CL-dd06-gr00-pa01-sa00-bw6-boh-bs000-e00a1-...  0.740000  0.594059\n",
       "1  PB-CL-dd06-gr00-pa01-sa00-bw6-boh-bs000-e10a1-...  0.578947  0.558824\n",
       "2  PB-CL-dd06-gr00-pa01-sa00-bw6-boh-bs000-e11a1-...  0.712766  0.510000\n",
       "3  PB-CL-dd06-gr00-pa01-sa00-bw6-bov-bs000-e00a1-...  0.742574  0.575758\n",
       "4  PB-CL-dd06-gr00-pa01-sa00-bw6-bov-bs000-e10a1-...  0.542553  0.555556"
      ]
     },
     "execution_count": 11,
     "metadata": {},
     "output_type": "execute_result"
    }
   ],
   "source": [
    "df.head()"
   ]
  },
  {
   "cell_type": "code",
   "execution_count": 12,
   "id": "c69b935b",
   "metadata": {},
   "outputs": [
    {
     "data": {
      "text/html": [
       "<div>\n",
       "<style scoped>\n",
       "    .dataframe tbody tr th:only-of-type {\n",
       "        vertical-align: middle;\n",
       "    }\n",
       "\n",
       "    .dataframe tbody tr th {\n",
       "        vertical-align: top;\n",
       "    }\n",
       "\n",
       "    .dataframe thead th {\n",
       "        text-align: right;\n",
       "    }\n",
       "</style>\n",
       "<table border=\"1\" class=\"dataframe\">\n",
       "  <thead>\n",
       "    <tr style=\"text-align: right;\">\n",
       "      <th></th>\n",
       "      <th>question_id</th>\n",
       "      <th>yes_R</th>\n",
       "      <th>yes_T</th>\n",
       "      <th>type</th>\n",
       "      <th>color</th>\n",
       "      <th>data</th>\n",
       "      <th>source</th>\n",
       "      <th>donut_hole</th>\n",
       "      <th>grid</th>\n",
       "      <th>wedge_explode</th>\n",
       "      <th>...</th>\n",
       "      <th>font</th>\n",
       "      <th>legend_loc</th>\n",
       "      <th>bar_orientation</th>\n",
       "      <th>bar_spacing</th>\n",
       "      <th>bar_width</th>\n",
       "      <th>sample</th>\n",
       "      <th>font_size</th>\n",
       "      <th>annotation_dist</th>\n",
       "      <th>error_bar</th>\n",
       "      <th>label</th>\n",
       "    </tr>\n",
       "  </thead>\n",
       "  <tbody>\n",
       "    <tr>\n",
       "      <th>0</th>\n",
       "      <td>PB-CL-dd06-gr00-pa01-sa00-bw6-boh-bs000-e00a1-...</td>\n",
       "      <td>0.740000</td>\n",
       "      <td>0.594059</td>\n",
       "      <td>Bar</td>\n",
       "      <td>CL</td>\n",
       "      <td>6</td>\n",
       "      <td>True</td>\n",
       "      <td>NaN</td>\n",
       "      <td>00</td>\n",
       "      <td>NaN</td>\n",
       "      <td>...</td>\n",
       "      <td>se</td>\n",
       "      <td>ur</td>\n",
       "      <td>H</td>\n",
       "      <td>0.0</td>\n",
       "      <td>0.6</td>\n",
       "      <td>False</td>\n",
       "      <td>16</td>\n",
       "      <td>NaN</td>\n",
       "      <td>None</td>\n",
       "      <td>True</td>\n",
       "    </tr>\n",
       "    <tr>\n",
       "      <th>1</th>\n",
       "      <td>PB-CL-dd06-gr00-pa01-sa00-bw6-boh-bs000-e10a1-...</td>\n",
       "      <td>0.578947</td>\n",
       "      <td>0.558824</td>\n",
       "      <td>Bar</td>\n",
       "      <td>CL</td>\n",
       "      <td>6</td>\n",
       "      <td>True</td>\n",
       "      <td>NaN</td>\n",
       "      <td>00</td>\n",
       "      <td>NaN</td>\n",
       "      <td>...</td>\n",
       "      <td>se</td>\n",
       "      <td>ur</td>\n",
       "      <td>H</td>\n",
       "      <td>0.0</td>\n",
       "      <td>0.6</td>\n",
       "      <td>False</td>\n",
       "      <td>16</td>\n",
       "      <td>NaN</td>\n",
       "      <td>Line</td>\n",
       "      <td>True</td>\n",
       "    </tr>\n",
       "    <tr>\n",
       "      <th>2</th>\n",
       "      <td>PB-CL-dd06-gr00-pa01-sa00-bw6-boh-bs000-e11a1-...</td>\n",
       "      <td>0.712766</td>\n",
       "      <td>0.510000</td>\n",
       "      <td>Bar</td>\n",
       "      <td>CL</td>\n",
       "      <td>6</td>\n",
       "      <td>True</td>\n",
       "      <td>NaN</td>\n",
       "      <td>00</td>\n",
       "      <td>NaN</td>\n",
       "      <td>...</td>\n",
       "      <td>se</td>\n",
       "      <td>ur</td>\n",
       "      <td>H</td>\n",
       "      <td>0.0</td>\n",
       "      <td>0.6</td>\n",
       "      <td>False</td>\n",
       "      <td>16</td>\n",
       "      <td>NaN</td>\n",
       "      <td>Cap</td>\n",
       "      <td>True</td>\n",
       "    </tr>\n",
       "    <tr>\n",
       "      <th>3</th>\n",
       "      <td>PB-CL-dd06-gr00-pa01-sa00-bw6-bov-bs000-e00a1-...</td>\n",
       "      <td>0.742574</td>\n",
       "      <td>0.575758</td>\n",
       "      <td>Bar</td>\n",
       "      <td>CL</td>\n",
       "      <td>6</td>\n",
       "      <td>True</td>\n",
       "      <td>NaN</td>\n",
       "      <td>00</td>\n",
       "      <td>NaN</td>\n",
       "      <td>...</td>\n",
       "      <td>se</td>\n",
       "      <td>ur</td>\n",
       "      <td>V</td>\n",
       "      <td>0.0</td>\n",
       "      <td>0.6</td>\n",
       "      <td>False</td>\n",
       "      <td>16</td>\n",
       "      <td>NaN</td>\n",
       "      <td>None</td>\n",
       "      <td>True</td>\n",
       "    </tr>\n",
       "    <tr>\n",
       "      <th>4</th>\n",
       "      <td>PB-CL-dd06-gr00-pa01-sa00-bw6-bov-bs000-e10a1-...</td>\n",
       "      <td>0.542553</td>\n",
       "      <td>0.555556</td>\n",
       "      <td>Bar</td>\n",
       "      <td>CL</td>\n",
       "      <td>6</td>\n",
       "      <td>True</td>\n",
       "      <td>NaN</td>\n",
       "      <td>00</td>\n",
       "      <td>NaN</td>\n",
       "      <td>...</td>\n",
       "      <td>se</td>\n",
       "      <td>ur</td>\n",
       "      <td>V</td>\n",
       "      <td>0.0</td>\n",
       "      <td>0.6</td>\n",
       "      <td>False</td>\n",
       "      <td>16</td>\n",
       "      <td>NaN</td>\n",
       "      <td>Line</td>\n",
       "      <td>True</td>\n",
       "    </tr>\n",
       "  </tbody>\n",
       "</table>\n",
       "<p>5 rows × 22 columns</p>\n",
       "</div>"
      ],
      "text/plain": [
       "                                         question_id     yes_R     yes_T type  \\\n",
       "0  PB-CL-dd06-gr00-pa01-sa00-bw6-boh-bs000-e00a1-...  0.740000  0.594059  Bar   \n",
       "1  PB-CL-dd06-gr00-pa01-sa00-bw6-boh-bs000-e10a1-...  0.578947  0.558824  Bar   \n",
       "2  PB-CL-dd06-gr00-pa01-sa00-bw6-boh-bs000-e11a1-...  0.712766  0.510000  Bar   \n",
       "3  PB-CL-dd06-gr00-pa01-sa00-bw6-bov-bs000-e00a1-...  0.742574  0.575758  Bar   \n",
       "4  PB-CL-dd06-gr00-pa01-sa00-bw6-bov-bs000-e10a1-...  0.542553  0.555556  Bar   \n",
       "\n",
       "  color  data  source  donut_hole grid  wedge_explode  ...  font  legend_loc  \\\n",
       "0    CL     6    True         NaN   00            NaN  ...    se          ur   \n",
       "1    CL     6    True         NaN   00            NaN  ...    se          ur   \n",
       "2    CL     6    True         NaN   00            NaN  ...    se          ur   \n",
       "3    CL     6    True         NaN   00            NaN  ...    se          ur   \n",
       "4    CL     6    True         NaN   00            NaN  ...    se          ur   \n",
       "\n",
       "  bar_orientation bar_spacing bar_width  sample  font_size  annotation_dist  \\\n",
       "0               H         0.0       0.6   False         16              NaN   \n",
       "1               H         0.0       0.6   False         16              NaN   \n",
       "2               H         0.0       0.6   False         16              NaN   \n",
       "3               V         0.0       0.6   False         16              NaN   \n",
       "4               V         0.0       0.6   False         16              NaN   \n",
       "\n",
       "   error_bar  label  \n",
       "0       None   True  \n",
       "1       Line   True  \n",
       "2        Cap   True  \n",
       "3       None   True  \n",
       "4       Line   True  \n",
       "\n",
       "[5 rows x 22 columns]"
      ]
     },
     "execution_count": 12,
     "metadata": {},
     "output_type": "execute_result"
    }
   ],
   "source": [
    "data = parse_chart_name(df, 'question_id')\n",
    "data.head()"
   ]
  },
  {
   "cell_type": "code",
   "execution_count": 13,
   "id": "83dc9b2d",
   "metadata": {},
   "outputs": [
    {
     "data": {
      "text/plain": [
       "Index(['question_id', 'yes_R', 'yes_T', 'type', 'color', 'data', 'source',\n",
       "       'donut_hole', 'grid', 'wedge_explode', 'rotation', 'precision', 'font',\n",
       "       'legend_loc', 'bar_orientation', 'bar_spacing', 'bar_width', 'sample',\n",
       "       'font_size', 'annotation_dist', 'error_bar', 'label'],\n",
       "      dtype='object')"
      ]
     },
     "execution_count": 13,
     "metadata": {},
     "output_type": "execute_result"
    }
   ],
   "source": [
    "data.columns"
   ]
  },
  {
   "cell_type": "code",
   "execution_count": 14,
   "id": "c60def9b",
   "metadata": {},
   "outputs": [
    {
     "data": {
      "text/plain": [
       "Index(['type', 'color', 'data', 'source', 'donut_hole', 'grid',\n",
       "       'wedge_explode', 'rotation', 'precision', 'font', 'legend_loc',\n",
       "       'bar_orientation', 'bar_spacing', 'bar_width', 'sample', 'font_size',\n",
       "       'annotation_dist', 'error_bar', 'label'],\n",
       "      dtype='object')"
      ]
     },
     "execution_count": 14,
     "metadata": {},
     "output_type": "execute_result"
    }
   ],
   "source": [
    "columns = data.columns[3:]\n",
    "columns"
   ]
  },
  {
   "cell_type": "code",
   "execution_count": 15,
   "id": "b169f079",
   "metadata": {},
   "outputs": [
    {
     "name": "stdout",
     "output_type": "stream",
     "text": [
      "Bar      208\n",
      "Donut     96\n",
      "Pie       96\n",
      "Name: type, dtype: int64\n",
      "---------------------------\n",
      "Is NaN?\n",
      "False    400\n",
      "Name: type, dtype: int64\n",
      "\n",
      "MB    100\n",
      "CL    100\n",
      "MG    100\n",
      "CR    100\n",
      "Name: color, dtype: int64\n",
      "---------------------------\n",
      "Is NaN?\n",
      "False    400\n",
      "Name: color, dtype: int64\n",
      "\n",
      "6     272\n",
      "2      64\n",
      "12     64\n",
      "Name: data, dtype: int64\n",
      "---------------------------\n",
      "Is NaN?\n",
      "False    400\n",
      "Name: data, dtype: int64\n",
      "\n",
      "False    200\n",
      "True     200\n",
      "Name: source, dtype: int64\n",
      "---------------------------\n",
      "Is NaN?\n",
      "False    400\n",
      "Name: source, dtype: int64\n",
      "\n",
      "0.5    96\n",
      "Name: donut_hole, dtype: int64\n",
      "---------------------------\n",
      "Is NaN?\n",
      "True     304\n",
      "False     96\n",
      "Name: donut_hole, dtype: int64\n",
      "\n",
      "00    208\n",
      "Name: grid, dtype: int64\n",
      "---------------------------\n",
      "Is NaN?\n",
      "False    208\n",
      "True     192\n",
      "Name: grid, dtype: int64\n",
      "\n",
      "5.0    192\n",
      "Name: wedge_explode, dtype: int64\n",
      "---------------------------\n",
      "Is NaN?\n",
      "True     208\n",
      "False    192\n",
      "Name: wedge_explode, dtype: int64\n",
      "\n",
      "0.0    192\n",
      "Name: rotation, dtype: int64\n",
      "---------------------------\n",
      "Is NaN?\n",
      "True     208\n",
      "False    192\n",
      "Name: rotation, dtype: int64\n",
      "\n",
      "0.0    112\n",
      "3.0     96\n",
      "5.0     96\n",
      "1.0     96\n",
      "Name: precision, dtype: int64\n",
      "---------------------------\n",
      "Is NaN?\n",
      "False    400\n",
      "Name: precision, dtype: int64\n",
      "\n",
      "se    400\n",
      "Name: font, dtype: int64\n",
      "---------------------------\n",
      "Is NaN?\n",
      "False    400\n",
      "Name: font, dtype: int64\n",
      "\n",
      "ur    208\n",
      "cr    192\n",
      "Name: legend_loc, dtype: int64\n",
      "---------------------------\n",
      "Is NaN?\n",
      "False    400\n",
      "Name: legend_loc, dtype: int64\n",
      "\n",
      "H    104\n",
      "V    104\n",
      "Name: bar_orientation, dtype: int64\n",
      "---------------------------\n",
      "Is NaN?\n",
      "False    208\n",
      "True     192\n",
      "Name: bar_orientation, dtype: int64\n",
      "\n",
      "0.0    208\n",
      "Name: bar_spacing, dtype: int64\n",
      "---------------------------\n",
      "Is NaN?\n",
      "False    208\n",
      "True     192\n",
      "Name: bar_spacing, dtype: int64\n",
      "\n",
      "0.6    208\n",
      "Name: bar_width, dtype: int64\n",
      "---------------------------\n",
      "Is NaN?\n",
      "False    208\n",
      "True     192\n",
      "Name: bar_width, dtype: int64\n",
      "\n",
      "False    400\n",
      "Name: sample, dtype: int64\n",
      "---------------------------\n",
      "Is NaN?\n",
      "False    400\n",
      "Name: sample, dtype: int64\n",
      "\n",
      "16    400\n",
      "Name: font_size, dtype: int64\n",
      "---------------------------\n",
      "Is NaN?\n",
      "False    400\n",
      "Name: font_size, dtype: int64\n",
      "\n",
      "0.9    192\n",
      "Name: annotation_dist, dtype: int64\n",
      "---------------------------\n",
      "Is NaN?\n",
      "True     208\n",
      "False    192\n",
      "Name: annotation_dist, dtype: int64\n",
      "\n",
      "None    80\n",
      "Line    64\n",
      "Cap     64\n",
      "Name: error_bar, dtype: int64\n",
      "---------------------------\n",
      "Is NaN?\n",
      "False    208\n",
      "True     192\n",
      "Name: error_bar, dtype: int64\n",
      "\n",
      "True     192\n",
      "False     16\n",
      "Name: label, dtype: int64\n",
      "---------------------------\n",
      "Is NaN?\n",
      "False    208\n",
      "True     192\n",
      "Name: label, dtype: int64\n",
      "\n"
     ]
    }
   ],
   "source": [
    "for c in columns:\n",
    "    print(data[c].value_counts())\n",
    "    print('---------------------------')\n",
    "    print('Is NaN?')\n",
    "    print(data[c].isna().value_counts())\n",
    "    print()"
   ]
  },
  {
   "cell_type": "code",
   "execution_count": 16,
   "id": "b7780bfa",
   "metadata": {},
   "outputs": [
    {
     "data": {
      "text/html": [
       "<div>\n",
       "<style scoped>\n",
       "    .dataframe tbody tr th:only-of-type {\n",
       "        vertical-align: middle;\n",
       "    }\n",
       "\n",
       "    .dataframe tbody tr th {\n",
       "        vertical-align: top;\n",
       "    }\n",
       "\n",
       "    .dataframe thead th {\n",
       "        text-align: right;\n",
       "    }\n",
       "</style>\n",
       "<table border=\"1\" class=\"dataframe\">\n",
       "  <thead>\n",
       "    <tr style=\"text-align: right;\">\n",
       "      <th></th>\n",
       "      <th>question_id</th>\n",
       "      <th>yes_R</th>\n",
       "      <th>yes_T</th>\n",
       "      <th>type</th>\n",
       "      <th>color</th>\n",
       "      <th>data</th>\n",
       "      <th>source</th>\n",
       "      <th>donut_hole</th>\n",
       "      <th>grid</th>\n",
       "      <th>wedge_explode</th>\n",
       "      <th>...</th>\n",
       "      <th>font</th>\n",
       "      <th>legend_loc</th>\n",
       "      <th>bar_orientation</th>\n",
       "      <th>bar_spacing</th>\n",
       "      <th>bar_width</th>\n",
       "      <th>sample</th>\n",
       "      <th>font_size</th>\n",
       "      <th>annotation_dist</th>\n",
       "      <th>error_bar</th>\n",
       "      <th>label</th>\n",
       "    </tr>\n",
       "  </thead>\n",
       "  <tbody>\n",
       "    <tr>\n",
       "      <th>0</th>\n",
       "      <td>PB-CL-dd06-gr00-pa01-sa00-bw6-boh-bs000-e00a1-...</td>\n",
       "      <td>0.740000</td>\n",
       "      <td>0.594059</td>\n",
       "      <td>Bar</td>\n",
       "      <td>CL</td>\n",
       "      <td>6</td>\n",
       "      <td>True</td>\n",
       "      <td>NaN</td>\n",
       "      <td>00</td>\n",
       "      <td>NaN</td>\n",
       "      <td>...</td>\n",
       "      <td>se</td>\n",
       "      <td>ur</td>\n",
       "      <td>H</td>\n",
       "      <td>0.0</td>\n",
       "      <td>0.6</td>\n",
       "      <td>False</td>\n",
       "      <td>16</td>\n",
       "      <td>NaN</td>\n",
       "      <td>None</td>\n",
       "      <td>True</td>\n",
       "    </tr>\n",
       "    <tr>\n",
       "      <th>1</th>\n",
       "      <td>PB-CL-dd06-gr00-pa01-sa00-bw6-boh-bs000-e10a1-...</td>\n",
       "      <td>0.578947</td>\n",
       "      <td>0.558824</td>\n",
       "      <td>Bar</td>\n",
       "      <td>CL</td>\n",
       "      <td>6</td>\n",
       "      <td>True</td>\n",
       "      <td>NaN</td>\n",
       "      <td>00</td>\n",
       "      <td>NaN</td>\n",
       "      <td>...</td>\n",
       "      <td>se</td>\n",
       "      <td>ur</td>\n",
       "      <td>H</td>\n",
       "      <td>0.0</td>\n",
       "      <td>0.6</td>\n",
       "      <td>False</td>\n",
       "      <td>16</td>\n",
       "      <td>NaN</td>\n",
       "      <td>Line</td>\n",
       "      <td>True</td>\n",
       "    </tr>\n",
       "    <tr>\n",
       "      <th>2</th>\n",
       "      <td>PB-CL-dd06-gr00-pa01-sa00-bw6-boh-bs000-e11a1-...</td>\n",
       "      <td>0.712766</td>\n",
       "      <td>0.510000</td>\n",
       "      <td>Bar</td>\n",
       "      <td>CL</td>\n",
       "      <td>6</td>\n",
       "      <td>True</td>\n",
       "      <td>NaN</td>\n",
       "      <td>00</td>\n",
       "      <td>NaN</td>\n",
       "      <td>...</td>\n",
       "      <td>se</td>\n",
       "      <td>ur</td>\n",
       "      <td>H</td>\n",
       "      <td>0.0</td>\n",
       "      <td>0.6</td>\n",
       "      <td>False</td>\n",
       "      <td>16</td>\n",
       "      <td>NaN</td>\n",
       "      <td>Cap</td>\n",
       "      <td>True</td>\n",
       "    </tr>\n",
       "    <tr>\n",
       "      <th>3</th>\n",
       "      <td>PB-CL-dd06-gr00-pa01-sa00-bw6-bov-bs000-e00a1-...</td>\n",
       "      <td>0.742574</td>\n",
       "      <td>0.575758</td>\n",
       "      <td>Bar</td>\n",
       "      <td>CL</td>\n",
       "      <td>6</td>\n",
       "      <td>True</td>\n",
       "      <td>NaN</td>\n",
       "      <td>00</td>\n",
       "      <td>NaN</td>\n",
       "      <td>...</td>\n",
       "      <td>se</td>\n",
       "      <td>ur</td>\n",
       "      <td>V</td>\n",
       "      <td>0.0</td>\n",
       "      <td>0.6</td>\n",
       "      <td>False</td>\n",
       "      <td>16</td>\n",
       "      <td>NaN</td>\n",
       "      <td>None</td>\n",
       "      <td>True</td>\n",
       "    </tr>\n",
       "    <tr>\n",
       "      <th>4</th>\n",
       "      <td>PB-CL-dd06-gr00-pa01-sa00-bw6-bov-bs000-e10a1-...</td>\n",
       "      <td>0.542553</td>\n",
       "      <td>0.555556</td>\n",
       "      <td>Bar</td>\n",
       "      <td>CL</td>\n",
       "      <td>6</td>\n",
       "      <td>True</td>\n",
       "      <td>NaN</td>\n",
       "      <td>00</td>\n",
       "      <td>NaN</td>\n",
       "      <td>...</td>\n",
       "      <td>se</td>\n",
       "      <td>ur</td>\n",
       "      <td>V</td>\n",
       "      <td>0.0</td>\n",
       "      <td>0.6</td>\n",
       "      <td>False</td>\n",
       "      <td>16</td>\n",
       "      <td>NaN</td>\n",
       "      <td>Line</td>\n",
       "      <td>True</td>\n",
       "    </tr>\n",
       "  </tbody>\n",
       "</table>\n",
       "<p>5 rows × 22 columns</p>\n",
       "</div>"
      ],
      "text/plain": [
       "                                         question_id     yes_R     yes_T type  \\\n",
       "0  PB-CL-dd06-gr00-pa01-sa00-bw6-boh-bs000-e00a1-...  0.740000  0.594059  Bar   \n",
       "1  PB-CL-dd06-gr00-pa01-sa00-bw6-boh-bs000-e10a1-...  0.578947  0.558824  Bar   \n",
       "2  PB-CL-dd06-gr00-pa01-sa00-bw6-boh-bs000-e11a1-...  0.712766  0.510000  Bar   \n",
       "3  PB-CL-dd06-gr00-pa01-sa00-bw6-bov-bs000-e00a1-...  0.742574  0.575758  Bar   \n",
       "4  PB-CL-dd06-gr00-pa01-sa00-bw6-bov-bs000-e10a1-...  0.542553  0.555556  Bar   \n",
       "\n",
       "  color  data  source  donut_hole grid  wedge_explode  ...  font  legend_loc  \\\n",
       "0    CL     6    True         NaN   00            NaN  ...    se          ur   \n",
       "1    CL     6    True         NaN   00            NaN  ...    se          ur   \n",
       "2    CL     6    True         NaN   00            NaN  ...    se          ur   \n",
       "3    CL     6    True         NaN   00            NaN  ...    se          ur   \n",
       "4    CL     6    True         NaN   00            NaN  ...    se          ur   \n",
       "\n",
       "  bar_orientation bar_spacing bar_width  sample  font_size  annotation_dist  \\\n",
       "0               H         0.0       0.6   False         16              NaN   \n",
       "1               H         0.0       0.6   False         16              NaN   \n",
       "2               H         0.0       0.6   False         16              NaN   \n",
       "3               V         0.0       0.6   False         16              NaN   \n",
       "4               V         0.0       0.6   False         16              NaN   \n",
       "\n",
       "   error_bar  label  \n",
       "0       None   True  \n",
       "1       Line   True  \n",
       "2        Cap   True  \n",
       "3       None   True  \n",
       "4       Line   True  \n",
       "\n",
       "[5 rows x 22 columns]"
      ]
     },
     "execution_count": 16,
     "metadata": {},
     "output_type": "execute_result"
    }
   ],
   "source": [
    "data.head()"
   ]
  },
  {
   "cell_type": "code",
   "execution_count": 17,
   "id": "fd2d2ffa",
   "metadata": {},
   "outputs": [
    {
     "data": {
      "text/plain": [
       "'PB-CL-dd06-gr00-pa01-sa00-bw6-boh-bs000-e00a1-ftse-fs16-llur-sm0.png'"
      ]
     },
     "execution_count": 17,
     "metadata": {},
     "output_type": "execute_result"
    }
   ],
   "source": [
    "data['question_id'][0]"
   ]
  },
  {
   "cell_type": "code",
   "execution_count": 18,
   "id": "588869a8",
   "metadata": {},
   "outputs": [],
   "source": [
    "selected_columns = ['type', 'color', 'data', 'source', 'precision', 'legend_loc', \\\n",
    "                    'bar_orientation', 'error_bar', 'label', 'yes_R', 'yes_T']"
   ]
  },
  {
   "cell_type": "code",
   "execution_count": 19,
   "id": "ae85c417",
   "metadata": {},
   "outputs": [],
   "source": [
    "# bar_orientantion's NaNs can be swapped with 0 since it differentiates some of the bar_charts\n",
    "# error_bar differentiates bar_charts\n",
    "# label differentiates bar_charts\n",
    "# out = ['donout_hole', 'grid', 'wedge_explode', 'rotation', 'font', 'bar_spacing', 'bar_width', 'sample', 'font_size', 'annotation_dist']"
   ]
  },
  {
   "cell_type": "code",
   "execution_count": 20,
   "id": "48994aea",
   "metadata": {},
   "outputs": [
    {
     "data": {
      "text/plain": [
       "19"
      ]
     },
     "execution_count": 20,
     "metadata": {},
     "output_type": "execute_result"
    }
   ],
   "source": [
    "len(columns)"
   ]
  },
  {
   "cell_type": "code",
   "execution_count": 21,
   "id": "f5cdc407",
   "metadata": {},
   "outputs": [],
   "source": [
    "ML_df = data.loc[:, selected_columns]"
   ]
  },
  {
   "cell_type": "code",
   "execution_count": 22,
   "id": "733f2f54",
   "metadata": {},
   "outputs": [
    {
     "data": {
      "text/html": [
       "<div>\n",
       "<style scoped>\n",
       "    .dataframe tbody tr th:only-of-type {\n",
       "        vertical-align: middle;\n",
       "    }\n",
       "\n",
       "    .dataframe tbody tr th {\n",
       "        vertical-align: top;\n",
       "    }\n",
       "\n",
       "    .dataframe thead th {\n",
       "        text-align: right;\n",
       "    }\n",
       "</style>\n",
       "<table border=\"1\" class=\"dataframe\">\n",
       "  <thead>\n",
       "    <tr style=\"text-align: right;\">\n",
       "      <th></th>\n",
       "      <th>type</th>\n",
       "      <th>color</th>\n",
       "      <th>data</th>\n",
       "      <th>source</th>\n",
       "      <th>precision</th>\n",
       "      <th>legend_loc</th>\n",
       "      <th>bar_orientation</th>\n",
       "      <th>error_bar</th>\n",
       "      <th>label</th>\n",
       "      <th>yes_R</th>\n",
       "      <th>yes_T</th>\n",
       "    </tr>\n",
       "  </thead>\n",
       "  <tbody>\n",
       "    <tr>\n",
       "      <th>0</th>\n",
       "      <td>Bar</td>\n",
       "      <td>CL</td>\n",
       "      <td>6</td>\n",
       "      <td>True</td>\n",
       "      <td>1.0</td>\n",
       "      <td>ur</td>\n",
       "      <td>H</td>\n",
       "      <td>None</td>\n",
       "      <td>True</td>\n",
       "      <td>0.740000</td>\n",
       "      <td>0.594059</td>\n",
       "    </tr>\n",
       "    <tr>\n",
       "      <th>1</th>\n",
       "      <td>Bar</td>\n",
       "      <td>CL</td>\n",
       "      <td>6</td>\n",
       "      <td>True</td>\n",
       "      <td>1.0</td>\n",
       "      <td>ur</td>\n",
       "      <td>H</td>\n",
       "      <td>Line</td>\n",
       "      <td>True</td>\n",
       "      <td>0.578947</td>\n",
       "      <td>0.558824</td>\n",
       "    </tr>\n",
       "    <tr>\n",
       "      <th>2</th>\n",
       "      <td>Bar</td>\n",
       "      <td>CL</td>\n",
       "      <td>6</td>\n",
       "      <td>True</td>\n",
       "      <td>1.0</td>\n",
       "      <td>ur</td>\n",
       "      <td>H</td>\n",
       "      <td>Cap</td>\n",
       "      <td>True</td>\n",
       "      <td>0.712766</td>\n",
       "      <td>0.510000</td>\n",
       "    </tr>\n",
       "    <tr>\n",
       "      <th>3</th>\n",
       "      <td>Bar</td>\n",
       "      <td>CL</td>\n",
       "      <td>6</td>\n",
       "      <td>True</td>\n",
       "      <td>1.0</td>\n",
       "      <td>ur</td>\n",
       "      <td>V</td>\n",
       "      <td>None</td>\n",
       "      <td>True</td>\n",
       "      <td>0.742574</td>\n",
       "      <td>0.575758</td>\n",
       "    </tr>\n",
       "    <tr>\n",
       "      <th>4</th>\n",
       "      <td>Bar</td>\n",
       "      <td>CL</td>\n",
       "      <td>6</td>\n",
       "      <td>True</td>\n",
       "      <td>1.0</td>\n",
       "      <td>ur</td>\n",
       "      <td>V</td>\n",
       "      <td>Line</td>\n",
       "      <td>True</td>\n",
       "      <td>0.542553</td>\n",
       "      <td>0.555556</td>\n",
       "    </tr>\n",
       "  </tbody>\n",
       "</table>\n",
       "</div>"
      ],
      "text/plain": [
       "  type color  data  source  precision legend_loc bar_orientation error_bar  \\\n",
       "0  Bar    CL     6    True        1.0         ur               H      None   \n",
       "1  Bar    CL     6    True        1.0         ur               H      Line   \n",
       "2  Bar    CL     6    True        1.0         ur               H       Cap   \n",
       "3  Bar    CL     6    True        1.0         ur               V      None   \n",
       "4  Bar    CL     6    True        1.0         ur               V      Line   \n",
       "\n",
       "  label     yes_R     yes_T  \n",
       "0  True  0.740000  0.594059  \n",
       "1  True  0.578947  0.558824  \n",
       "2  True  0.712766  0.510000  \n",
       "3  True  0.742574  0.575758  \n",
       "4  True  0.542553  0.555556  "
      ]
     },
     "execution_count": 22,
     "metadata": {},
     "output_type": "execute_result"
    }
   ],
   "source": [
    "ML_df.head()"
   ]
  },
  {
   "cell_type": "code",
   "execution_count": 23,
   "id": "285aa84e",
   "metadata": {},
   "outputs": [
    {
     "data": {
      "text/plain": [
       "0.0    112\n",
       "3.0     96\n",
       "5.0     96\n",
       "1.0     96\n",
       "Name: precision, dtype: int64"
      ]
     },
     "execution_count": 23,
     "metadata": {},
     "output_type": "execute_result"
    }
   ],
   "source": [
    "ML_df['precision'].value_counts()"
   ]
  },
  {
   "cell_type": "code",
   "execution_count": 24,
   "id": "3008e6dd",
   "metadata": {},
   "outputs": [],
   "source": [
    "ML_df['bar_orientation'].fillna('N', inplace=True)"
   ]
  },
  {
   "cell_type": "code",
   "execution_count": 25,
   "id": "3a56f72b",
   "metadata": {},
   "outputs": [],
   "source": [
    "ML_df['error_bar'].fillna('X', inplace=True)"
   ]
  },
  {
   "cell_type": "code",
   "execution_count": 26,
   "id": "497dd46a",
   "metadata": {},
   "outputs": [],
   "source": [
    "ML_df['label'].fillna('N', inplace=True)"
   ]
  },
  {
   "cell_type": "code",
   "execution_count": 27,
   "id": "0815b261",
   "metadata": {},
   "outputs": [
    {
     "data": {
      "text/plain": [
       "type   color  data   source  precision  legend_loc  bar_orientation  error_bar  label  yes_R  yes_T\n",
       "False  False  False  False   False      False       False            False      False  False  False    400\n",
       "dtype: int64"
      ]
     },
     "execution_count": 27,
     "metadata": {},
     "output_type": "execute_result"
    }
   ],
   "source": [
    "ML_df.isna().value_counts()"
   ]
  },
  {
   "cell_type": "code",
   "execution_count": 28,
   "id": "523af31b",
   "metadata": {},
   "outputs": [],
   "source": [
    "from sklearn.preprocessing import LabelEncoder"
   ]
  },
  {
   "cell_type": "code",
   "execution_count": 29,
   "id": "edb31e53",
   "metadata": {},
   "outputs": [],
   "source": [
    "type_encoder = LabelEncoder()\n",
    "ML_df['type'] = type_encoder.fit_transform(ML_df['type'])"
   ]
  },
  {
   "cell_type": "code",
   "execution_count": 30,
   "id": "67d3e1e0",
   "metadata": {},
   "outputs": [],
   "source": [
    "bar_orientation_encoder = LabelEncoder()\n",
    "ML_df['bar_orientation'] = type_encoder.fit_transform(ML_df['bar_orientation'])"
   ]
  },
  {
   "cell_type": "code",
   "execution_count": 31,
   "id": "4b6b9794",
   "metadata": {},
   "outputs": [],
   "source": [
    "legend_loc_encoder = LabelEncoder()\n",
    "ML_df['legend_loc'] = type_encoder.fit_transform(ML_df['legend_loc'])"
   ]
  },
  {
   "cell_type": "code",
   "execution_count": 32,
   "id": "bdfb7024",
   "metadata": {},
   "outputs": [],
   "source": [
    "error_bar_encoder = LabelEncoder()\n",
    "ML_df['error_bar'] = type_encoder.fit_transform(ML_df['error_bar'])"
   ]
  },
  {
   "cell_type": "code",
   "execution_count": 33,
   "id": "8023ae30",
   "metadata": {},
   "outputs": [],
   "source": [
    "label_encoder = LabelEncoder()\n",
    "ML_df['label'] = label_encoder.fit_transform(ML_df['label'].apply(lambda x: str(x)))"
   ]
  },
  {
   "cell_type": "code",
   "execution_count": 34,
   "id": "2396f567",
   "metadata": {},
   "outputs": [],
   "source": [
    "color_encoder = LabelEncoder()\n",
    "ML_df['color'] = type_encoder.fit_transform(ML_df['color'])"
   ]
  },
  {
   "cell_type": "code",
   "execution_count": 35,
   "id": "a149b40b",
   "metadata": {},
   "outputs": [
    {
     "data": {
      "text/html": [
       "<div>\n",
       "<style scoped>\n",
       "    .dataframe tbody tr th:only-of-type {\n",
       "        vertical-align: middle;\n",
       "    }\n",
       "\n",
       "    .dataframe tbody tr th {\n",
       "        vertical-align: top;\n",
       "    }\n",
       "\n",
       "    .dataframe thead th {\n",
       "        text-align: right;\n",
       "    }\n",
       "</style>\n",
       "<table border=\"1\" class=\"dataframe\">\n",
       "  <thead>\n",
       "    <tr style=\"text-align: right;\">\n",
       "      <th></th>\n",
       "      <th>type</th>\n",
       "      <th>color</th>\n",
       "      <th>data</th>\n",
       "      <th>source</th>\n",
       "      <th>precision</th>\n",
       "      <th>legend_loc</th>\n",
       "      <th>bar_orientation</th>\n",
       "      <th>error_bar</th>\n",
       "      <th>label</th>\n",
       "      <th>yes_R</th>\n",
       "      <th>yes_T</th>\n",
       "    </tr>\n",
       "  </thead>\n",
       "  <tbody>\n",
       "    <tr>\n",
       "      <th>0</th>\n",
       "      <td>0</td>\n",
       "      <td>0</td>\n",
       "      <td>6</td>\n",
       "      <td>True</td>\n",
       "      <td>1.0</td>\n",
       "      <td>1</td>\n",
       "      <td>0</td>\n",
       "      <td>2</td>\n",
       "      <td>2</td>\n",
       "      <td>0.740000</td>\n",
       "      <td>0.594059</td>\n",
       "    </tr>\n",
       "    <tr>\n",
       "      <th>1</th>\n",
       "      <td>0</td>\n",
       "      <td>0</td>\n",
       "      <td>6</td>\n",
       "      <td>True</td>\n",
       "      <td>1.0</td>\n",
       "      <td>1</td>\n",
       "      <td>0</td>\n",
       "      <td>1</td>\n",
       "      <td>2</td>\n",
       "      <td>0.578947</td>\n",
       "      <td>0.558824</td>\n",
       "    </tr>\n",
       "    <tr>\n",
       "      <th>2</th>\n",
       "      <td>0</td>\n",
       "      <td>0</td>\n",
       "      <td>6</td>\n",
       "      <td>True</td>\n",
       "      <td>1.0</td>\n",
       "      <td>1</td>\n",
       "      <td>0</td>\n",
       "      <td>0</td>\n",
       "      <td>2</td>\n",
       "      <td>0.712766</td>\n",
       "      <td>0.510000</td>\n",
       "    </tr>\n",
       "    <tr>\n",
       "      <th>3</th>\n",
       "      <td>0</td>\n",
       "      <td>0</td>\n",
       "      <td>6</td>\n",
       "      <td>True</td>\n",
       "      <td>1.0</td>\n",
       "      <td>1</td>\n",
       "      <td>2</td>\n",
       "      <td>2</td>\n",
       "      <td>2</td>\n",
       "      <td>0.742574</td>\n",
       "      <td>0.575758</td>\n",
       "    </tr>\n",
       "    <tr>\n",
       "      <th>4</th>\n",
       "      <td>0</td>\n",
       "      <td>0</td>\n",
       "      <td>6</td>\n",
       "      <td>True</td>\n",
       "      <td>1.0</td>\n",
       "      <td>1</td>\n",
       "      <td>2</td>\n",
       "      <td>1</td>\n",
       "      <td>2</td>\n",
       "      <td>0.542553</td>\n",
       "      <td>0.555556</td>\n",
       "    </tr>\n",
       "  </tbody>\n",
       "</table>\n",
       "</div>"
      ],
      "text/plain": [
       "   type  color  data  source  precision  legend_loc  bar_orientation  \\\n",
       "0     0      0     6    True        1.0           1                0   \n",
       "1     0      0     6    True        1.0           1                0   \n",
       "2     0      0     6    True        1.0           1                0   \n",
       "3     0      0     6    True        1.0           1                2   \n",
       "4     0      0     6    True        1.0           1                2   \n",
       "\n",
       "   error_bar  label     yes_R     yes_T  \n",
       "0          2      2  0.740000  0.594059  \n",
       "1          1      2  0.578947  0.558824  \n",
       "2          0      2  0.712766  0.510000  \n",
       "3          2      2  0.742574  0.575758  \n",
       "4          1      2  0.542553  0.555556  "
      ]
     },
     "execution_count": 35,
     "metadata": {},
     "output_type": "execute_result"
    }
   ],
   "source": [
    "ML_df.head()"
   ]
  },
  {
   "cell_type": "code",
   "execution_count": 36,
   "id": "8ddda127",
   "metadata": {},
   "outputs": [],
   "source": [
    "from sklearn.model_selection import train_test_split\n",
    "from sklearn.tree import DecisionTreeRegressor\n",
    "from sklearn.metrics import mean_squared_error"
   ]
  },
  {
   "cell_type": "markdown",
   "id": "c812813f",
   "metadata": {},
   "source": [
    "###### There is no correlation between yes_R and yes_T so we would run 2 separate analysis"
   ]
  },
  {
   "cell_type": "markdown",
   "id": "2ee30c0d",
   "metadata": {},
   "source": [
    "###### Readability"
   ]
  },
  {
   "cell_type": "code",
   "execution_count": 37,
   "id": "758004a9",
   "metadata": {},
   "outputs": [
    {
     "data": {
      "text/plain": [
       "(400, 9)"
      ]
     },
     "execution_count": 37,
     "metadata": {},
     "output_type": "execute_result"
    }
   ],
   "source": [
    "X = ML_df.iloc[:, :-2]\n",
    "X.shape"
   ]
  },
  {
   "cell_type": "code",
   "execution_count": 38,
   "id": "19f40779",
   "metadata": {},
   "outputs": [
    {
     "data": {
      "text/plain": [
       "(400,)"
      ]
     },
     "execution_count": 38,
     "metadata": {},
     "output_type": "execute_result"
    }
   ],
   "source": [
    "y = ML_df['yes_R']\n",
    "y.shape"
   ]
  },
  {
   "cell_type": "code",
   "execution_count": 39,
   "id": "59e6b484",
   "metadata": {},
   "outputs": [],
   "source": [
    "X_train, X_test, y_train, y_test = train_test_split(X, y, test_size=0.33, random_state=42)"
   ]
  },
  {
   "cell_type": "code",
   "execution_count": 40,
   "id": "47565b1f",
   "metadata": {},
   "outputs": [
    {
     "data": {
      "text/plain": [
       "0.004895724214260198"
      ]
     },
     "execution_count": 40,
     "metadata": {},
     "output_type": "execute_result"
    }
   ],
   "source": [
    "regressor = DecisionTreeRegressor(random_state=42)\n",
    "regressor.fit(X_train, y_train)\n",
    "y_pred = regressor.predict(X_test)\n",
    "mean_squared_error(y_test, y_pred)"
   ]
  },
  {
   "cell_type": "code",
   "execution_count": 41,
   "id": "d756e6b0",
   "metadata": {},
   "outputs": [],
   "source": [
    "from sklearn.ensemble import RandomForestRegressor"
   ]
  },
  {
   "cell_type": "code",
   "execution_count": 42,
   "id": "b3d94a51",
   "metadata": {},
   "outputs": [],
   "source": [
    "regr = RandomForestRegressor(max_depth=10, random_state=42)"
   ]
  },
  {
   "cell_type": "code",
   "execution_count": 43,
   "id": "50412b3c",
   "metadata": {},
   "outputs": [
    {
     "data": {
      "text/plain": [
       "RandomForestRegressor(max_depth=10, random_state=42)"
      ]
     },
     "execution_count": 43,
     "metadata": {},
     "output_type": "execute_result"
    }
   ],
   "source": [
    "regr.fit(X_train, y_train)"
   ]
  },
  {
   "cell_type": "code",
   "execution_count": 44,
   "id": "ef5673bb",
   "metadata": {},
   "outputs": [
    {
     "data": {
      "text/plain": [
       "0.004895724214260198"
      ]
     },
     "execution_count": 44,
     "metadata": {},
     "output_type": "execute_result"
    }
   ],
   "source": [
    "y_pred = regressor.predict(X_test)\n",
    "mean_squared_error(y_test, y_pred)"
   ]
  },
  {
   "cell_type": "markdown",
   "id": "7820fe64",
   "metadata": {},
   "source": [
    "### Let's see if trust helps a bit, although there is no correlation between trust and read"
   ]
  },
  {
   "cell_type": "code",
   "execution_count": 45,
   "id": "b05fdaad",
   "metadata": {},
   "outputs": [],
   "source": [
    "selected_cols = list(ML_df.columns)\n",
    "selected_cols.remove('yes_R')\n",
    "X_R = ML_df.loc[:, selected_cols]"
   ]
  },
  {
   "cell_type": "code",
   "execution_count": 46,
   "id": "6fe7f049",
   "metadata": {},
   "outputs": [
    {
     "data": {
      "text/html": [
       "<div>\n",
       "<style scoped>\n",
       "    .dataframe tbody tr th:only-of-type {\n",
       "        vertical-align: middle;\n",
       "    }\n",
       "\n",
       "    .dataframe tbody tr th {\n",
       "        vertical-align: top;\n",
       "    }\n",
       "\n",
       "    .dataframe thead th {\n",
       "        text-align: right;\n",
       "    }\n",
       "</style>\n",
       "<table border=\"1\" class=\"dataframe\">\n",
       "  <thead>\n",
       "    <tr style=\"text-align: right;\">\n",
       "      <th></th>\n",
       "      <th>type</th>\n",
       "      <th>color</th>\n",
       "      <th>data</th>\n",
       "      <th>source</th>\n",
       "      <th>precision</th>\n",
       "      <th>legend_loc</th>\n",
       "      <th>bar_orientation</th>\n",
       "      <th>error_bar</th>\n",
       "      <th>label</th>\n",
       "      <th>yes_T</th>\n",
       "    </tr>\n",
       "  </thead>\n",
       "  <tbody>\n",
       "    <tr>\n",
       "      <th>0</th>\n",
       "      <td>0</td>\n",
       "      <td>0</td>\n",
       "      <td>6</td>\n",
       "      <td>True</td>\n",
       "      <td>1.0</td>\n",
       "      <td>1</td>\n",
       "      <td>0</td>\n",
       "      <td>2</td>\n",
       "      <td>2</td>\n",
       "      <td>0.594059</td>\n",
       "    </tr>\n",
       "    <tr>\n",
       "      <th>1</th>\n",
       "      <td>0</td>\n",
       "      <td>0</td>\n",
       "      <td>6</td>\n",
       "      <td>True</td>\n",
       "      <td>1.0</td>\n",
       "      <td>1</td>\n",
       "      <td>0</td>\n",
       "      <td>1</td>\n",
       "      <td>2</td>\n",
       "      <td>0.558824</td>\n",
       "    </tr>\n",
       "  </tbody>\n",
       "</table>\n",
       "</div>"
      ],
      "text/plain": [
       "   type  color  data  source  precision  legend_loc  bar_orientation  \\\n",
       "0     0      0     6    True        1.0           1                0   \n",
       "1     0      0     6    True        1.0           1                0   \n",
       "\n",
       "   error_bar  label     yes_T  \n",
       "0          2      2  0.594059  \n",
       "1          1      2  0.558824  "
      ]
     },
     "execution_count": 46,
     "metadata": {},
     "output_type": "execute_result"
    }
   ],
   "source": [
    "X_R[:2]"
   ]
  },
  {
   "cell_type": "code",
   "execution_count": 47,
   "id": "1fff6408",
   "metadata": {},
   "outputs": [],
   "source": [
    "X_train, X_test, y_train, y_test = train_test_split(X_R, y, test_size=0.33, random_state=42)"
   ]
  },
  {
   "cell_type": "code",
   "execution_count": 48,
   "id": "b553ad04",
   "metadata": {},
   "outputs": [
    {
     "data": {
      "text/plain": [
       "0.004501709193211895"
      ]
     },
     "execution_count": 48,
     "metadata": {},
     "output_type": "execute_result"
    }
   ],
   "source": [
    "regressor = DecisionTreeRegressor(random_state=42)\n",
    "regressor.fit(X_train, y_train)\n",
    "y_pred = regressor.predict(X_test)\n",
    "mean_squared_error(y_test, y_pred)"
   ]
  },
  {
   "cell_type": "markdown",
   "id": "64ff5cbc",
   "metadata": {},
   "source": [
    "##### We can say that it improved a bit the score, but preferably we won't use it."
   ]
  },
  {
   "cell_type": "markdown",
   "id": "3d0f77ac",
   "metadata": {},
   "source": [
    "### XGBoost"
   ]
  },
  {
   "cell_type": "code",
   "execution_count": 49,
   "id": "9da27105",
   "metadata": {},
   "outputs": [],
   "source": [
    "from xgboost import XGBRegressor"
   ]
  },
  {
   "cell_type": "code",
   "execution_count": 50,
   "id": "ebf6bbf3",
   "metadata": {},
   "outputs": [],
   "source": [
    "X_train, X_test, y_train, y_test = train_test_split(X, y, test_size=0.33, random_state=42)"
   ]
  },
  {
   "cell_type": "code",
   "execution_count": 51,
   "id": "3bc1580e",
   "metadata": {},
   "outputs": [
    {
     "data": {
      "text/plain": [
       "0.00298047633038861"
      ]
     },
     "execution_count": 51,
     "metadata": {},
     "output_type": "execute_result"
    }
   ],
   "source": [
    "xgbregressor = XGBRegressor(n_estimators = 10, seed = 42)\n",
    "xgbregressor.fit(X_train, y_train)\n",
    "y_pred = xgbregressor.predict(X_test)\n",
    "mean_squared_error(y_test, y_pred)"
   ]
  },
  {
   "cell_type": "markdown",
   "id": "24c178f5",
   "metadata": {},
   "source": [
    "### SVR"
   ]
  },
  {
   "cell_type": "code",
   "execution_count": 52,
   "id": "148c8ae8",
   "metadata": {},
   "outputs": [],
   "source": [
    "from sklearn.svm import SVR"
   ]
  },
  {
   "cell_type": "code",
   "execution_count": 53,
   "id": "b813f5a8",
   "metadata": {},
   "outputs": [
    {
     "data": {
      "text/plain": [
       "0.01049491757084336"
      ]
     },
     "execution_count": 53,
     "metadata": {},
     "output_type": "execute_result"
    }
   ],
   "source": [
    "regressor = SVR(C=1.0, epsilon=0.2)\n",
    "regressor.fit(X_train, y_train)\n",
    "y_pred = regressor.predict(X_test)\n",
    "mean_squared_error(y_test, y_pred)"
   ]
  },
  {
   "cell_type": "markdown",
   "id": "c52a9187",
   "metadata": {},
   "source": [
    "### Linear"
   ]
  },
  {
   "cell_type": "code",
   "execution_count": 54,
   "id": "d0301846",
   "metadata": {},
   "outputs": [
    {
     "data": {
      "text/plain": [
       "0.0036923531197519616"
      ]
     },
     "execution_count": 54,
     "metadata": {},
     "output_type": "execute_result"
    }
   ],
   "source": [
    "from sklearn.linear_model import LinearRegression\n",
    "regressor = LinearRegression()\n",
    "regressor.fit(X_train, y_train)\n",
    "y_pred = regressor.predict(X_test)\n",
    "mean_squared_error(y_test, y_pred)"
   ]
  },
  {
   "cell_type": "markdown",
   "id": "296e85e7",
   "metadata": {},
   "source": [
    "### Lasso"
   ]
  },
  {
   "cell_type": "code",
   "execution_count": 55,
   "id": "2b6fc697",
   "metadata": {},
   "outputs": [
    {
     "data": {
      "text/plain": [
       "0.011651431696244652"
      ]
     },
     "execution_count": 55,
     "metadata": {},
     "output_type": "execute_result"
    }
   ],
   "source": [
    "from sklearn.linear_model import Lasso\n",
    "regressor = Lasso(alpha=0.1)\n",
    "regressor.fit(X_train, y_train)\n",
    "y_pred = regressor.predict(X_test)\n",
    "mean_squared_error(y_test, y_pred)"
   ]
  },
  {
   "cell_type": "code",
   "execution_count": 56,
   "id": "e1bf4a2f",
   "metadata": {},
   "outputs": [],
   "source": [
    "# do some unsupervised to see interesting things\n",
    "# for this you will have to turn data with PCA and plot the clusters"
   ]
  },
  {
   "cell_type": "code",
   "execution_count": 57,
   "id": "01394a0c",
   "metadata": {},
   "outputs": [],
   "source": [
    "# do the PCA and create the viz for the regression line"
   ]
  },
  {
   "cell_type": "code",
   "execution_count": 58,
   "id": "e40eacc2",
   "metadata": {},
   "outputs": [],
   "source": [
    "from xgboost import plot_tree\n",
    "from xgboost import to_graphviz\n",
    "from xgboost import plot_importance\n",
    "import matplotlib.pyplot as plt"
   ]
  },
  {
   "cell_type": "code",
   "execution_count": 59,
   "id": "69464aff",
   "metadata": {},
   "outputs": [
    {
     "data": {
      "image/png": "[encoded data removed]",
      "text/plain": [
       "<Figure size 432x288 with 1 Axes>"
      ]
     },
     "metadata": {
      "needs_background": "light"
     },
     "output_type": "display_data"
    }
   ],
   "source": [
    "plot_importance(xgbregressor)\n",
    "#plt.savefig('feature-imp.png')\n",
    "plt.show()"
   ]
  },
  {
   "cell_type": "code",
   "execution_count": 60,
   "id": "3b63aeb7",
   "metadata": {},
   "outputs": [
    {
     "data": {
      "image/png": "[encoded data removed]",
      "text/plain": [
       "<Figure size 5760x3600 with 1 Axes>"
      ]
     },
     "metadata": {
      "needs_background": "light"
     },
     "output_type": "display_data"
    }
   ],
   "source": [
    "from matplotlib.pylab import rcParams\n",
    "\n",
    "##set up the parameters\n",
    "rcParams['figure.figsize'] = 80,50\n",
    "plot_tree(xgbregressor)\n",
    "#plt.savefig('XGBTree.png')\n",
    "plt.show()"
   ]
  },
  {
   "cell_type": "code",
   "execution_count": 61,
   "id": "9b041cf4",
   "metadata": {},
   "outputs": [],
   "source": [
    "X_train, X_test, y_train, y_test = train_test_split(X, y, test_size=0.33, random_state=42)"
   ]
  },
  {
   "cell_type": "code",
   "execution_count": 62,
   "id": "8e652c18",
   "metadata": {},
   "outputs": [
    {
     "data": {
      "text/plain": [
       "(268, 9)"
      ]
     },
     "execution_count": 62,
     "metadata": {},
     "output_type": "execute_result"
    }
   ],
   "source": [
    "X_train.shape"
   ]
  },
  {
   "cell_type": "code",
   "execution_count": 63,
   "id": "763aab63",
   "metadata": {},
   "outputs": [
    {
     "data": {
      "text/plain": [
       "(268,)"
      ]
     },
     "execution_count": 63,
     "metadata": {},
     "output_type": "execute_result"
    }
   ],
   "source": [
    "y_train.shape"
   ]
  },
  {
   "cell_type": "code",
   "execution_count": 64,
   "id": "6203114d",
   "metadata": {},
   "outputs": [
    {
     "data": {
      "text/plain": [
       "(132, 9)"
      ]
     },
     "execution_count": 64,
     "metadata": {},
     "output_type": "execute_result"
    }
   ],
   "source": [
    "X_test.shape"
   ]
  },
  {
   "cell_type": "code",
   "execution_count": 65,
   "id": "329d1e9c",
   "metadata": {},
   "outputs": [
    {
     "data": {
      "text/plain": [
       "0.00298047633038861"
      ]
     },
     "execution_count": 65,
     "metadata": {},
     "output_type": "execute_result"
    }
   ],
   "source": [
    "xgbregressor = XGBRegressor(n_estimators = 10, seed = 42)\n",
    "xgbregressor.fit(X_train, y_train)\n",
    "y_pred = xgbregressor.predict(X_test)\n",
    "mean_squared_error(y_test, y_pred)"
   ]
  },
  {
   "cell_type": "code",
   "execution_count": 66,
   "id": "fc37e84c",
   "metadata": {},
   "outputs": [],
   "source": [
    "# also tried with X_R and no significand improvement"
   ]
  },
  {
   "cell_type": "code",
   "execution_count": 67,
   "id": "a9c84e4c",
   "metadata": {},
   "outputs": [],
   "source": [
    "viz_reg = pd.DataFrame(columns=['yes_R', 'yes_R_pred'])"
   ]
  },
  {
   "cell_type": "code",
   "execution_count": 68,
   "id": "0964f1df",
   "metadata": {},
   "outputs": [],
   "source": [
    "viz_reg['yes_R'] = y_test\n",
    "viz_reg['yes_R_pred'] = y_pred"
   ]
  },
  {
   "cell_type": "code",
   "execution_count": 69,
   "id": "76e8e2e9",
   "metadata": {},
   "outputs": [
    {
     "data": {
      "text/html": [
       "<div>\n",
       "<style scoped>\n",
       "    .dataframe tbody tr th:only-of-type {\n",
       "        vertical-align: middle;\n",
       "    }\n",
       "\n",
       "    .dataframe tbody tr th {\n",
       "        vertical-align: top;\n",
       "    }\n",
       "\n",
       "    .dataframe thead th {\n",
       "        text-align: right;\n",
       "    }\n",
       "</style>\n",
       "<table border=\"1\" class=\"dataframe\">\n",
       "  <thead>\n",
       "    <tr style=\"text-align: right;\">\n",
       "      <th></th>\n",
       "      <th>yes_R</th>\n",
       "      <th>yes_R_pred</th>\n",
       "    </tr>\n",
       "  </thead>\n",
       "  <tbody>\n",
       "    <tr>\n",
       "      <th>0</th>\n",
       "      <td>0.900000</td>\n",
       "      <td>0.868290</td>\n",
       "    </tr>\n",
       "    <tr>\n",
       "      <th>1</th>\n",
       "      <td>0.927835</td>\n",
       "      <td>0.837248</td>\n",
       "    </tr>\n",
       "    <tr>\n",
       "      <th>2</th>\n",
       "      <td>0.627451</td>\n",
       "      <td>0.699597</td>\n",
       "    </tr>\n",
       "    <tr>\n",
       "      <th>3</th>\n",
       "      <td>0.883495</td>\n",
       "      <td>0.868290</td>\n",
       "    </tr>\n",
       "    <tr>\n",
       "      <th>4</th>\n",
       "      <td>0.725490</td>\n",
       "      <td>0.787874</td>\n",
       "    </tr>\n",
       "  </tbody>\n",
       "</table>\n",
       "</div>"
      ],
      "text/plain": [
       "      yes_R  yes_R_pred\n",
       "0  0.900000    0.868290\n",
       "1  0.927835    0.837248\n",
       "2  0.627451    0.699597\n",
       "3  0.883495    0.868290\n",
       "4  0.725490    0.787874"
      ]
     },
     "execution_count": 69,
     "metadata": {},
     "output_type": "execute_result"
    }
   ],
   "source": [
    "df = viz_reg.reset_index(drop=True)\n",
    "df.head()"
   ]
  },
  {
   "cell_type": "code",
   "execution_count": 70,
   "id": "f4c0d1c0",
   "metadata": {},
   "outputs": [],
   "source": [
    "#df.to_csv('regline.csv', index=True)"
   ]
  },
  {
   "cell_type": "code",
   "execution_count": 71,
   "id": "3a07b031",
   "metadata": {},
   "outputs": [],
   "source": [
    "# use RL to tune params: MeSH"
   ]
  },
  {
   "cell_type": "code",
   "execution_count": 72,
   "id": "bf55ebe2",
   "metadata": {},
   "outputs": [],
   "source": [
    "# sklearn.model_selection.HalvingGridSearchCV"
   ]
  }
 ],
 "metadata": {
  "kernelspec": {
   "display_name": "Python 3",
   "language": "python",
   "name": "python3"
  },
  "language_info": {
   "codemirror_mode": {
    "name": "ipython",
    "version": 3
   },
   "file_extension": ".py",
   "mimetype": "text/x-python",
   "name": "python",
   "nbconvert_exporter": "python",
   "pygments_lexer": "ipython3",
   "version": "3.9.4"
  }
 },
 "nbformat": 4,
 "nbformat_minor": 5
}
