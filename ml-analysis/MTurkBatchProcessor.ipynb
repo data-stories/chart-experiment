{
 "cells": [
  {
   "cell_type": "code",
   "execution_count": 1,
   "id": "13c2155f",
   "metadata": {},
   "outputs": [],
   "source": [
    "import pandas as pd\n",
    "import numpy as np\n",
    "import sys\n",
    "from parsing import parse_chart_name \n",
    "import os"
   ]
  },
  {
   "cell_type": "code",
   "execution_count": 2,
   "id": "1a37b4ba",
   "metadata": {},
   "outputs": [],
   "source": [
    "def get_MTurk_data(csv_file):\n",
    "    df = pd.read_csv(csv_file)\n",
    "    print('--------------------------------')\n",
    "    print(csv_file)\n",
    "    print()\n",
    "    print(f'Initial df size: {len(df)}')\n",
    "    print('--------------------------------')\n",
    "    return df"
   ]
  },
  {
   "cell_type": "code",
   "execution_count": 3,
   "id": "b7ce6709",
   "metadata": {},
   "outputs": [],
   "source": [
    "def process_MTurk_data(data, category):\n",
    "    label = str()\n",
    "    if category in ['trust', 'readability']:\n",
    "        label = 'explain' if category == 'readability' else 'trust'\n",
    "    else:\n",
    "        raise InputError(f'Category \"{category}\" not known!')\n",
    "        return data\n",
    "    \n",
    "    # select just the columns needed\n",
    "    selected_columns = ['WorkerId']\n",
    "    for i in range(1, 13):\n",
    "        answer = f'Answer.{label}'\n",
    "        if i > 1:\n",
    "            answer += str(i)\n",
    "        selected_columns.extend([f'Input.img{i}', answer])\n",
    "    question_id_columns = selected_columns[1::2]\n",
    "    df = data.loc[:, selected_columns]\n",
    "    \n",
    "    # parse the link to get the question_id\n",
    "    def split_input_img(x):\n",
    "        return x.str.split('/').str[-1]\n",
    "    \n",
    "    df[question_id_columns] = df[question_id_columns].apply(split_input_img)\n",
    "    \n",
    "    # group by question_id\n",
    "    column_names = ['question_id', 'worker_id', 'answer']\n",
    "    questions = pd.DataFrame(columns=column_names)\n",
    "    for i in range(1, 13):\n",
    "        answer = f'Answer.{label}'\n",
    "        if i > 1:\n",
    "            answer += str(i)\n",
    "        to_concat = df[[f'Input.img{i}', 'WorkerId', answer]].set_axis(column_names, axis=1, inplace=False)\n",
    "        questions = pd.concat([questions, to_concat])\n",
    "\n",
    "    print(f'Size after processing data: {len(questions)} = 12 questions * {len(data)} records.')\n",
    "    print()\n",
    "    return questions"
   ]
  },
  {
   "cell_type": "code",
   "execution_count": 4,
   "id": "5d2f71b0",
   "metadata": {},
   "outputs": [],
   "source": [
    "def is_processed_batch(file, source):\n",
    "    params = dict()\n",
    "    processed = False\n",
    "    if os.path.isfile(file):\n",
    "        sources = list(pd.read_csv(file, usecols=['source']).source.unique())\n",
    "        if source in sources:\n",
    "            processed = True\n",
    "        else:\n",
    "            params['mode'] = 'a'\n",
    "            params['header'] = None\n",
    "    return (processed, params)"
   ]
  },
  {
   "cell_type": "code",
   "execution_count": 5,
   "id": "85b5077a",
   "metadata": {},
   "outputs": [],
   "source": [
    "def update_ML_csv(Readability, Trust, batch_number):\n",
    "    source = f'mturk-batch{batch_number}'\n",
    "    \n",
    "    processedR, paramsR = is_processed_batch('MLR.csv', source)\n",
    "    processedT, paramsT = is_processed_batch('MLT.csv', source)\n",
    "    \n",
    "    if not processedR:\n",
    "        R = Readability.drop(columns=['worker_id'])\n",
    "        R['source'] = source\n",
    "        R.to_csv('MLR.csv', index=False, **paramsR)\n",
    "        print(f'Updated MLR.csv with the latest \"{source}\" !')\n",
    "    else:\n",
    "        print(f'Readability {source} already processed!')\n",
    "    \n",
    "    if not processedT:\n",
    "        T = Trust.drop(columns=['worker_id'])\n",
    "        T['source'] = source\n",
    "        T.to_csv('MLT.csv', index=False, **paramsT)\n",
    "        print(f'Updated MLT.csv with the latest \"{source}\" !')\n",
    "    else:\n",
    "        print(f'Trust {source} already processed!')"
   ]
  },
  {
   "cell_type": "code",
   "execution_count": 6,
   "id": "8e5eb04c",
   "metadata": {},
   "outputs": [
    {
     "name": "stdout",
     "output_type": "stream",
     "text": [
      "--------------------------------\n",
      "MTurk_Read_Clean.csv\n",
      "\n",
      "Initial df size: 1703\n",
      "--------------------------------\n",
      "Size after processing data: 20436 = 12 questions * 1703 records.\n",
      "\n",
      "--------------------------------\n",
      "MTurk_Trust_Clean.csv\n",
      "\n",
      "Initial df size: 1702\n",
      "--------------------------------\n",
      "Size after processing data: 20424 = 12 questions * 1702 records.\n",
      "\n",
      "Updated MLR.csv with the latest \"mturk-batch1\" !\n",
      "Updated MLT.csv with the latest \"mturk-batch1\" !\n"
     ]
    }
   ],
   "source": [
    "Readability = process_MTurk_data(get_MTurk_data('MTurk_Read_Clean.csv'), 'readability')\n",
    "Trust = process_MTurk_data(get_MTurk_data('MTurk_Trust_Clean.csv'), 'trust')\n",
    "\n",
    "update_ML_csv(Readability, Trust, 1)"
   ]
  }
 ],
 "metadata": {
  "kernelspec": {
   "display_name": "Python 3",
   "language": "python",
   "name": "python3"
  },
  "language_info": {
   "codemirror_mode": {
    "name": "ipython",
    "version": 3
   },
   "file_extension": ".py",
   "mimetype": "text/x-python",
   "name": "python",
   "nbconvert_exporter": "python",
   "pygments_lexer": "ipython3",
   "version": "3.9.4"
  }
 },
 "nbformat": 4,
 "nbformat_minor": 5
}
